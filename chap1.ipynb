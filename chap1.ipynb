{
 "cells": [
  {
   "cell_type": "code",
   "execution_count": null,
   "id": "ad092bd0",
   "metadata": {},
   "outputs": [],
   "source": [
    "# from IPython.core.interactiveshell import InteractiveShell\n",
    "# InteractiveShell.ast_node_interactivity = \"all\""
   ]
  },
  {
   "cell_type": "code",
   "execution_count": null,
   "id": "95e0eccc",
   "metadata": {},
   "outputs": [],
   "source": [
    "import numpy as np\n",
    "import matplotlib.pyplot as plt\n",
    "import plotly.graph_objects as go"
   ]
  },
  {
   "cell_type": "markdown",
   "id": "07daa800",
   "metadata": {},
   "source": [
    "データファイルの準備"
   ]
  },
  {
   "cell_type": "code",
   "execution_count": null,
   "id": "1290b69e",
   "metadata": {},
   "outputs": [],
   "source": [
    "# import requests\n",
    "# import zipfile\n",
    "# import io\n",
    "\n",
    "# # ZIPファイルのURL\n",
    "# url = \"http://chasen.org/~daiti-m/gpbook/data/gpr-data.zip\"\n",
    "\n",
    "# # ダウンロードしてメモリ上で解凍\n",
    "# response = requests.get(url)\n",
    "# if response.status_code == 200:\n",
    "#     with zipfile.ZipFile(io.BytesIO(response.content)) as z:\n",
    "#         z.extractall(\"./../data/chap1\")"
   ]
  },
  {
   "cell_type": "markdown",
   "id": "489cc4db",
   "metadata": {},
   "source": [
    "回帰の実装"
   ]
  },
  {
   "cell_type": "code",
   "execution_count": null,
   "id": "d4986cc2",
   "metadata": {},
   "outputs": [],
   "source": [
    "def linear_regression(X, y):\n",
    "    \"\"\"\n",
    "    線形回帰の実装\n",
    "    X: 入力データ (n_samples, n_features)\n",
    "    y: 出力データ (n_samples,)\n",
    "    \"\"\"\n",
    "    y = y.reshape(-1, 1)  # yを列ベクトルに変形\n",
    "    X = np.vstack([np.ones(X.shape[0]),X.T]).T # バイアス項を追加\n",
    "    b = X.T @ y\n",
    "    w = np.linalg.inv(X.T @ X) @ b  # 重みの計算\n",
    "    return w"
   ]
  },
  {
   "cell_type": "markdown",
   "id": "9beefe98",
   "metadata": {},
   "source": [
    "単回帰"
   ]
  },
  {
   "cell_type": "code",
   "execution_count": null,
   "id": "8bf0112e",
   "metadata": {},
   "outputs": [],
   "source": [
    "def plot_simple(X, y, w, figname):\n",
    "    \"\"\"\n",
    "    単回帰の結果をプロット\n",
    "    X: 入力データ (n_samples,)\n",
    "    y: 出力データ (n_samples,)\n",
    "    w: 重み (2,)\n",
    "    \"\"\"\n",
    "    xmin,xmax = -5,5\n",
    "    ymin,ymax = -5,5\n",
    "    fig, ax = plt.subplots(figsize=(6, 6))\n",
    "    ax.set_xlim(xmin, xmax)\n",
    "    ax.set_ylim(ymin, ymax)\n",
    "    ax.set_xlabel('x')\n",
    "    ax.set_ylabel('y')\n",
    "\n",
    "    ax.plot([xmin,xmax],[0,0],'k',linewidth=1, zorder=0)\n",
    "    ax.plot([0,0],[ymin,ymax],'k',linewidth=1, zorder=0)\n",
    "    ax.scatter(X, y, label='Data', color=\"black\", zorder=1)\n",
    "    fig.savefig(f\"./../figures/chap1/{figname}_data.png\")\n",
    "\n",
    "    xx = np.linspace(xmin, xmax, 10)\n",
    "    yy = w[0] + w[1] * xx\n",
    "    ax.plot(xx, yy, label=f'$y=a+bx$', zorder=2)\n",
    "    # ax.plot(xx, yy, label=f'$y=a+bx$ \\n $(a={w[0][0]:.2f}, b={w[1][0]:.2f})$', zorder=2)\n",
    "\n",
    "    # ax.legend()\n",
    "    fig.savefig(f\"./../figures/chap1/{figname}.png\")\n",
    "    plt.show()"
   ]
  },
  {
   "cell_type": "code",
   "execution_count": null,
   "id": "a06c45ca",
   "metadata": {},
   "outputs": [],
   "source": [
    "# データの読み込み\n",
    "data = np.loadtxt(\"./../data/chap1/data/simple1.dat\")\n",
    "y1 = data[:, 0]\n",
    "X1 = data[:, 1]\n",
    "\n",
    "# 単回帰の実行\n",
    "w1 = linear_regression(X1, y1)\n",
    "print(w1)\n",
    "\n",
    "# 結果のプロット\n",
    "plot_simple(X1, y1, w1, \"simple1\")"
   ]
  },
  {
   "cell_type": "code",
   "execution_count": null,
   "id": "b485fcdf",
   "metadata": {},
   "outputs": [],
   "source": [
    "# データの読み込み\n",
    "data = np.loadtxt(\"./../data/chap1/data/simple2.dat\")\n",
    "y1_2 = data[:, 0]\n",
    "X1_2 = data[:, 1]\n",
    "\n",
    "# 単回帰の実行\n",
    "w1_2 = linear_regression(X1_2, y1_2)\n",
    "print(w1)\n",
    "\n",
    "# 結果のプロット\n",
    "plot_simple(X1_2, y1_2, w1_2, \"simple2\")"
   ]
  },
  {
   "cell_type": "markdown",
   "id": "eaaecf68",
   "metadata": {},
   "source": [
    "重回帰"
   ]
  },
  {
   "cell_type": "code",
   "execution_count": null,
   "id": "76b1437e",
   "metadata": {},
   "outputs": [],
   "source": [
    "def plot_data(X, y):\n",
    "    \"\"\"\n",
    "    重回帰の結果をプロット\n",
    "    X: 入力データ (n_samples, n_features)\n",
    "    y: 出力データ (n_samples,)\n",
    "    w: 重み (n_features + 1,)\n",
    "    \"\"\"\n",
    "    scatter = go.Scatter3d(\n",
    "        x=X[:, 0],\n",
    "        y=X[:, 1],\n",
    "        z=y,\n",
    "        mode='markers',\n",
    "        marker=dict(size=5, color='black'),\n",
    "        name='Data'\n",
    "    )\n",
    "    layout = go.Layout(\n",
    "        scene=dict(\n",
    "            xaxis_title='x1',\n",
    "            yaxis_title='x2',\n",
    "            zaxis_title='y'\n",
    "        ),\n",
    "    )\n",
    "    fig = go.Figure(data=[scatter], layout=layout)\n",
    "    fig.show()"
   ]
  },
  {
   "cell_type": "code",
   "execution_count": null,
   "id": "6fd48ebe",
   "metadata": {},
   "outputs": [],
   "source": [
    "def plot_multiple(X, y, w):\n",
    "    \"\"\"\n",
    "    重回帰の結果をプロット\n",
    "    X: 入力データ (n_samples, n_features)\n",
    "    y: 出力データ (n_samples,)\n",
    "    w: 重み (n_features + 1,)\n",
    "    \"\"\"\n",
    "    scatter = go.Scatter3d(\n",
    "        x=X[:, 0],\n",
    "        y=X[:, 1],\n",
    "        z=y,\n",
    "        mode='markers',\n",
    "        marker=dict(size=5, color='black'),\n",
    "        name='Data'\n",
    "    )\n",
    "    xx, yy = np.meshgrid(np.linspace(X[:, 0].min(), X[:, 0].max(), 10),\n",
    "                         np.linspace(X[:, 1].min(), X[:, 1].max(), 10))\n",
    "    zz = w[0] + w[1] * xx + w[2] * yy\n",
    "    surface = go.Surface(\n",
    "        x=xx,\n",
    "        y=yy,\n",
    "        z=zz,\n",
    "        opacity=0.5,\n",
    "        colorscale=[[0, 'blue'], [1, 'blue']],\n",
    "        name='Regression Plane',\n",
    "        showscale=False\n",
    "    )\n",
    "    layout = go.Layout(\n",
    "        scene=dict(\n",
    "            xaxis_title='x1',\n",
    "            yaxis_title='x2',\n",
    "            zaxis_title='y'\n",
    "        ),\n",
    "    )\n",
    "    fig = go.Figure(data=[scatter, surface], layout=layout)\n",
    "    # fig.write_image(\"./../figures/chap1/multiple.png\")\n",
    "    fig.show()"
   ]
  },
  {
   "cell_type": "code",
   "execution_count": null,
   "id": "d550e9a6",
   "metadata": {},
   "outputs": [],
   "source": [
    "# データの読み込み\n",
    "data = np.loadtxt(\"./../data/chap1/multiple.dat\")\n",
    "X2 = data[:, 0:2]\n",
    "y2 = data[:, 2]\n",
    "plot_data(X2, y2)\n",
    "\n",
    "# 重回帰の実行\n",
    "w2 = linear_regression(X2, y2)\n",
    "print(w2)\n",
    "\n",
    "# 結果のプロット\n",
    "plot_multiple(X2, y2, w2)"
   ]
  },
  {
   "cell_type": "markdown",
   "id": "3319faeb",
   "metadata": {},
   "source": [
    "非線形基底関数"
   ]
  },
  {
   "cell_type": "code",
   "execution_count": null,
   "id": "80cd1b99",
   "metadata": {},
   "outputs": [],
   "source": [
    "def phi (x):\n",
    "    return np.array([x, x*x, np.sin(x), np.cos(x)])\n",
    "\n",
    "def lm (xx,w):\n",
    "    return [w.T @ np.array([1, *phi(x)]) for x in xx]"
   ]
  },
  {
   "cell_type": "code",
   "execution_count": null,
   "id": "e6fe170b",
   "metadata": {},
   "outputs": [],
   "source": [
    "def plot_nonlinear(X, y, w):\n",
    "    \"\"\"\n",
    "    線形回帰の結果をプロット\n",
    "    X: 入力データ (n_samples,)\n",
    "    y: 出力データ (n_samples,)\n",
    "    w: 重み (2,)\n",
    "    \"\"\"\n",
    "    xmin,xmax = -4,4\n",
    "    ymin,ymax = -2,2\n",
    "    fig, ax = plt.subplots(figsize=(6, 4))\n",
    "    ax.scatter(X, y, label='Data', color=\"black\")\n",
    "\n",
    "    xx = np.linspace(xmin, xmax, 50)\n",
    "    yy = lm(xx, w)\n",
    "    ax.plot(xx, yy)\n",
    "\n",
    "    ax.set_xlim(xmin, xmax)\n",
    "    ax.set_ylim(ymin, ymax)\n",
    "    ax.set_xlabel('x')\n",
    "    ax.set_ylabel('y')\n",
    "    ax.set_aspect('equal')\n",
    "    # ax.legend()\n",
    "    fig.savefig(\"./../figures/chap1/nonlinear.png\")\n",
    "    plt.show()"
   ]
  },
  {
   "cell_type": "code",
   "execution_count": null,
   "id": "c30bfecf",
   "metadata": {},
   "outputs": [],
   "source": [
    "# データの読み込み\n",
    "data = np.loadtxt(\"./../data/chap1/nonlinear.dat\")\n",
    "y3 = data[:, 1]\n",
    "X3 = data[:, 0]\n",
    "X3_trans = np.array([phi(x) for x in X3.T])\n",
    "\n",
    "# 回帰の実行\n",
    "w3 = linear_regression(X3_trans, y3)\n",
    "print(w3)\n",
    "\n",
    "# 結果のプロット\n",
    "plot_nonlinear(X3, y3, w3)"
   ]
  },
  {
   "cell_type": "code",
   "execution_count": null,
   "id": "425b1654",
   "metadata": {},
   "outputs": [],
   "source": [
    "def plot_nonlinear_2(X, y, w):\n",
    "    xmin,xmax = -4,4\n",
    "    ymin,ymax = -2,2\n",
    "    fig, ax = plt.subplots(figsize=(6, 4))\n",
    "    ax.scatter(X, y, label='Data', color=\"black\")\n",
    "\n",
    "    xx = np.linspace(xmin, xmax, 50)\n",
    "    yy = w[0] + w[1] * xx\n",
    "    ax.plot(xx, yy)\n",
    "\n",
    "    ax.set_xlim(xmin, xmax)\n",
    "    ax.set_ylim(ymin, ymax)\n",
    "    ax.set_xlabel('x')\n",
    "    ax.set_ylabel('y')\n",
    "    ax.set_aspect('equal')\n",
    "    # ax.legend()\n",
    "    fig.savefig(\"./../figures/chap1/nonlinear_2.png\")\n",
    "    plt.show()\n",
    "\n",
    "\n",
    "# 回帰の実行\n",
    "w3_2 = linear_regression(X3, y3)\n",
    "print(w3)\n",
    "\n",
    "# 結果のプロット\n",
    "plot_nonlinear_2(X3, y3, w3_2)"
   ]
  },
  {
   "cell_type": "markdown",
   "id": "b49c82e1",
   "metadata": {},
   "source": [
    "Ridge回帰"
   ]
  },
  {
   "cell_type": "code",
   "execution_count": null,
   "id": "0aa3010e",
   "metadata": {},
   "outputs": [],
   "source": [
    "def linear_regression_ridge(X, y, alpha=0.1):\n",
    "    \"\"\"\n",
    "    線形回帰の実装\n",
    "    X: 入力データ (n_samples, n_features)\n",
    "    y: 出力データ (n_samples,)\n",
    "    alpha: Ridge回帰の係数\n",
    "    \"\"\"\n",
    "\n",
    "    y = y.reshape(-1, 1)  # yを列ベクトルに変形\n",
    "    X = np.vstack([np.ones(X.shape[0]),X.T]).T # バイアス項を追加\n",
    "    b = X.T @ y\n",
    "    w = np.linalg.inv(X.T @ X + alpha*np.diag(np.ones(X.shape[1]))) @ b  # 重みの計算\n",
    "    return w"
   ]
  },
  {
   "cell_type": "code",
   "execution_count": null,
   "id": "02062c1a",
   "metadata": {},
   "outputs": [],
   "source": [
    "def plot_simple_ridge(X, y, w_simple, w_ridge_list, alpha_list):\n",
    "    \"\"\"\n",
    "    単回帰の結果をプロット\n",
    "    X: 入力データ (n_samples,)\n",
    "    y: 出力データ (n_samples,)\n",
    "    w: 重み (2,)\n",
    "    \"\"\"\n",
    "    xmin,xmax = -5,5\n",
    "    ymin,ymax = -5,5\n",
    "    fig, ax = plt.subplots(figsize=(6, 6))\n",
    "    ax.plot([xmin,xmax],[0,0],'k',linewidth=1)\n",
    "    ax.plot([0,0],[ymin,ymax],'k',linewidth=1)\n",
    "    ax.scatter(X, y, label='Data')\n",
    "\n",
    "    xx = np.linspace(xmin, xmax, 10)\n",
    "    yy_simple = w_simple[0] + w_simple[1] * xx\n",
    "    ax.plot(xx, yy_simple, label='simple')\n",
    "    \n",
    "    for i in range(len(w_ridge_list)):\n",
    "        yy_ridge = w_ridge_list[i][0] + w_ridge_list[i][1] * xx\n",
    "        ax.plot(xx, yy_ridge, label=f'ridge ($\\\\alpha = {alpha_list[i]}$)')\n",
    "\n",
    "    ax.set_xlim(xmin, xmax)\n",
    "    ax.set_ylim(ymin, ymax)\n",
    "    ax.set_xlabel('x')\n",
    "    ax.set_ylabel('y')\n",
    "    ax.legend()\n",
    "    plt.show()"
   ]
  },
  {
   "cell_type": "code",
   "execution_count": null,
   "id": "b24804fd",
   "metadata": {},
   "outputs": [],
   "source": [
    "# データの読み込み\n",
    "data = np.loadtxt(\"./../data/chap1/data/simple1.dat\")\n",
    "y1 = data[:, 0]\n",
    "X1 = data[:, 1]\n",
    "\n",
    "# Ridge回帰の実行\n",
    "alpha_list = [0.1, 1, 10, 100]\n",
    "w4_list = [linear_regression_ridge(X1, y1, alpha) for alpha in alpha_list]\n",
    "print(w4_list)\n",
    "\n",
    "# # 結果のプロット\n",
    "plot_simple_ridge(X1, y1, w1, w4_list, alpha_list)"
   ]
  },
  {
   "cell_type": "code",
   "execution_count": null,
   "id": "f9e7d343",
   "metadata": {},
   "outputs": [],
   "source": [
    "X5 = np.array([[2, 4], [3, 6.1], [4, 7.9]])\n",
    "y5 = np.array([3, -1, 3])\n",
    "\n",
    "# 重回帰の実行\n",
    "w5 = linear_regression(X5, y5)\n",
    "\n",
    "# 結果のプロット\n",
    "plot_multiple(X5, y5, w5)"
   ]
  },
  {
   "cell_type": "code",
   "execution_count": null,
   "id": "e665cbda",
   "metadata": {},
   "outputs": [],
   "source": [
    "# Ridge回帰の実行\n",
    "w6 = linear_regression_ridge(X5, y5)\n",
    "\n",
    "# 結果のプロット\n",
    "plot_multiple(X5, y5, w6)"
   ]
  },
  {
   "cell_type": "markdown",
   "id": "e7408bf1",
   "metadata": {},
   "source": [
    "Lasso回帰"
   ]
  },
  {
   "cell_type": "code",
   "execution_count": null,
   "id": "907e8697",
   "metadata": {},
   "outputs": [],
   "source": [
    "from sklearn.linear_model import Lasso"
   ]
  },
  {
   "cell_type": "code",
   "execution_count": null,
   "id": "ab2fe1b4",
   "metadata": {},
   "outputs": [],
   "source": [
    "# Lasso回帰の実行\n",
    "clf = Lasso(alpha=0.1)\n",
    "clf.fit(X5, y5)\n",
    "w7 = [clf.intercept_, *clf.coef_]\n",
    "\n",
    "# 結果のプロット\n",
    "plot_multiple(X5, y5, w7)"
   ]
  },
  {
   "cell_type": "markdown",
   "id": "43f9beaa",
   "metadata": {},
   "source": [
    "通常の重回帰、Ridge回帰、Lasso回帰の比較\n",
    "(参考：https://boritaso-blog.com/lasso_and_ridge/)"
   ]
  },
  {
   "cell_type": "code",
   "execution_count": null,
   "id": "1015f3d9",
   "metadata": {},
   "outputs": [],
   "source": [
    "from sklearn.preprocessing import PolynomialFeatures\n",
    "from sklearn.metrics import mean_squared_error\n",
    "import pandas as pd"
   ]
  },
  {
   "cell_type": "code",
   "execution_count": null,
   "id": "9e407650",
   "metadata": {},
   "outputs": [],
   "source": [
    "def phi2 (x):\n",
    "    return np.array([x**i for i in range(1, 26)])\n",
    "\n",
    "def lm2 (xx,w):\n",
    "    return [w.T @ np.array([1, *phi2(x)]) for x in xx]\n",
    "\n",
    "# データ生成\n",
    "np.random.seed(0)\n",
    "X_train = np.linspace(-3, 3, 50)  # 10個のトレーニングデータ点を生成\n",
    "y_train = np.sin(X_train) + np.random.normal(0, 0.2, size=X_train.shape)  # 正弦関数にノイズを追加\n",
    "\n",
    "# 真の関数\n",
    "xx = np.linspace(-3, 3, 100)\n",
    "yy_true = np.sin(xx)\n",
    "\n",
    "xmin,xmax = -3,3\n",
    "ymin,ymax = -2,2\n",
    "fig, ax = plt.subplots(figsize=(6, 4))\n",
    "ax.plot([xmin,xmax],[0,0],'k',linewidth=1)\n",
    "ax.plot([0,0],[ymin,ymax],'k',linewidth=1)\n",
    "ax.scatter(X_train, y_train, label='Data', color='black')\n",
    "ax.plot(xx, yy_true, label='true')\n",
    "ax.set_xlim(xmin, xmax)\n",
    "ax.set_ylim(ymin, ymax)\n",
    "ax.set_xlabel('x')\n",
    "ax.set_ylabel('y')\n",
    "ax.legend()\n",
    "fig.savefig(\"./../figures/chap1/compare_data.png\")\n",
    "plt.show()\n",
    "\n",
    "\n",
    "# 多項式特徴量の追加\n",
    "poly_degree = 25  # 高次の多項式を使用して過学習を起こす\n",
    "poly_features = PolynomialFeatures(degree=poly_degree, include_bias=False)\n",
    "\n",
    "X_train_poly = poly_features.fit_transform(X_train[:, np.newaxis])\n",
    "\n",
    "# モデルの学習\n",
    "w_lr = linear_regression(X_train_poly, y_train) # 通常の重回帰\n",
    "w_ridge = linear_regression_ridge(X_train_poly, y_train, alpha=0.1) # Ridge回帰\n",
    "clf = Lasso(alpha=0.01)\n",
    "clf.fit(X_train_poly, y_train)\n",
    "w_lasso = np.array([clf.intercept_, *clf.coef_]) # Lasso回帰\n",
    "\n",
    "# 回帰係数の取得\n",
    "df_w_lr = pd.DataFrame({\"Normal Coefficients\": w_lr.reshape(-1)})\n",
    "df_w_ridge = pd.DataFrame({\"Ridge Coefficients\": w_ridge.reshape(-1)})\n",
    "df_w_lasso = pd.DataFrame({\"Lasso Coefficients\": w_lasso})\n",
    "# 係数データフレームの結合\n",
    "df_coef = pd.concat([df_w_lr, df_w_ridge, df_w_lasso], axis=1)\n",
    "\n",
    "# 予測\n",
    "yy_lr = lm2(xx, w_lr)\n",
    "yy_ridge = lm2(xx, w_ridge)\n",
    "yy_lasso = lm2(xx, w_lasso)\n",
    "\n",
    "# MSEの計算\n",
    "mse_normal = mean_squared_error(yy_true, yy_lr)\n",
    "mse_ridge = mean_squared_error(yy_true, yy_ridge)\n",
    "mse_lasso = mean_squared_error(yy_true, yy_lasso)\n",
    "\n",
    "# 結果の描画\n",
    "xmin,xmax = -3,3\n",
    "ymin,ymax = -2,2\n",
    "fig, ax = plt.subplots(figsize=(6, 4))\n",
    "ax.plot([xmin,xmax],[0,0],'k',linewidth=1)\n",
    "ax.plot([0,0],[ymin,ymax],'k',linewidth=1)\n",
    "ax.scatter(X_train, y_train, label='Data', color='black')\n",
    "ax.plot(xx, yy_true, label='true')\n",
    "ax.plot(xx, yy_lr, label='multiple', linestyle='--')\n",
    "ax.plot(xx, yy_ridge, label='ridge', linestyle='--')\n",
    "ax.plot(xx, yy_lasso, label='lasso', linestyle='--')\n",
    "ax.set_xlim(xmin, xmax)\n",
    "ax.set_ylim(ymin, ymax)\n",
    "ax.set_xlabel('x')\n",
    "ax.set_ylabel('y')\n",
    "ax.legend()\n",
    "fig.savefig(\"./../figures/chap1/compare.png\")\n",
    "plt.show()\n",
    "\n",
    "# 回帰係数の出力\n",
    "print(\"Regression Coefficients:\\n\", df_coef)\n",
    "\n",
    "# MSEの出力\n",
    "print(\"\\nNormal Model MSE:\", mse_normal)\n",
    "print(\"Ridge Model MSE:\", mse_ridge)\n",
    "print(\"Lasso Model MSE:\", mse_lasso)"
   ]
  }
 ],
 "metadata": {
  "kernelspec": {
   "display_name": "codes",
   "language": "python",
   "name": "python3"
  },
  "language_info": {
   "codemirror_mode": {
    "name": "ipython",
    "version": 3
   },
   "file_extension": ".py",
   "mimetype": "text/x-python",
   "name": "python",
   "nbconvert_exporter": "python",
   "pygments_lexer": "ipython3",
   "version": "3.13.5"
  }
 },
 "nbformat": 4,
 "nbformat_minor": 5
}
