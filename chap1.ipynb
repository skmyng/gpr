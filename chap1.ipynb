{
 "cells": [
  {
   "cell_type": "code",
   "execution_count": 1,
   "id": "95e0eccc",
   "metadata": {},
   "outputs": [],
   "source": [
    "import numpy as np\n",
    "import matplotlib.pyplot as plt\n",
    "import plotly.graph_objects as go"
   ]
  },
  {
   "cell_type": "markdown",
   "id": "07daa800",
   "metadata": {},
   "source": [
    "データファイルの準備"
   ]
  },
  {
   "cell_type": "code",
   "execution_count": 2,
   "id": "1290b69e",
   "metadata": {},
   "outputs": [],
   "source": [
    "import requests\n",
    "import zipfile\n",
    "import io\n",
    "\n",
    "# ZIPファイルのURL\n",
    "url = \"http://chasen.org/~daiti-m/gpbook/data/gpr-data.zip\"\n",
    "\n",
    "# ダウンロードしてメモリ上で解凍\n",
    "response = requests.get(url)\n",
    "if response.status_code == 200:\n",
    "    with zipfile.ZipFile(io.BytesIO(response.content)) as z:\n",
    "        z.extractall(\"./../data/chap1\")"
   ]
  },
  {
   "cell_type": "markdown",
   "id": "489cc4db",
   "metadata": {},
   "source": [
    "回帰の実装"
   ]
  },
  {
   "cell_type": "code",
   "execution_count": 3,
   "id": "d4986cc2",
   "metadata": {},
   "outputs": [],
   "source": [
    "def linear_regression(X, y):\n",
    "    \"\"\"\n",
    "    線形回帰の実装\n",
    "    X: 入力データ (n_samples, n_features)\n",
    "    y: 出力データ (n_samples,)\n",
    "    \"\"\"\n",
    "    y = y.reshape(-1, 1)  # yを列ベクトルに変形\n",
    "    X = np.vstack([np.ones(X.shape[0]),X.T]).T # バイアス項を追加\n",
    "    b = X.T @ y\n",
    "    w = np.linalg.inv(X.T @ X) @ b  # 重みの計算\n",
    "    return w"
   ]
  },
  {
   "cell_type": "markdown",
   "id": "9beefe98",
   "metadata": {},
   "source": [
    "単回帰"
   ]
  },
  {
   "cell_type": "code",
   "execution_count": 4,
   "id": "8bf0112e",
   "metadata": {},
   "outputs": [],
   "source": [
    "def plot_simple(X, y, w):\n",
    "    \"\"\"\n",
    "    単回帰の結果をプロット\n",
    "    X: 入力データ (n_samples,)\n",
    "    y: 出力データ (n_samples,)\n",
    "    w: 重み (2,)\n",
    "    \"\"\"\n",
    "    xmin,xmax = -5,5\n",
    "    ymin,ymax = -5,5\n",
    "    fig, ax = plt.subplots(figsize=(6, 6))\n",
    "    ax.plot([xmin,xmax],[0,0],'k',linewidth=1)\n",
    "    ax.plot([0,0],[ymin,ymax],'k',linewidth=1)\n",
    "    ax.scatter(X, y, label='Data')\n",
    "\n",
    "    xx = np.linspace(xmin, xmax, 10)\n",
    "    yy = w[0] + w[1] * xx\n",
    "    ax.plot(xx, yy)\n",
    "\n",
    "    ax.set_xlim(xmin, xmax)\n",
    "    ax.set_ylim(ymin, ymax)\n",
    "    ax.set_xlabel('x')\n",
    "    ax.set_ylabel('y')\n",
    "    ax.legend()\n",
    "    plt.show()"
   ]
  },
  {
   "cell_type": "code",
   "execution_count": 5,
   "id": "a06c45ca",
   "metadata": {},
   "outputs": [
    {
     "data": {
      "image/png": "[encoded data removed]",
      "text/plain": [
       "<Figure size 600x600 with 1 Axes>"
      ]
     },
     "metadata": {},
     "output_type": "display_data"
    }
   ],
   "source": [
    "# データの読み込み\n",
    "data = np.loadtxt(\"./../data/chap1/data/simple1.dat\")\n",
    "y1 = data[:, 0]\n",
    "X1 = data[:, 1]\n",
    "\n",
    "# 単回帰の実行\n",
    "w1 = linear_regression(X1, y1)\n",
    "\n",
    "# 結果のプロット\n",
    "plot_simple(X1, y1, w1)"
   ]
  },
  {
   "cell_type": "markdown",
   "id": "eaaecf68",
   "metadata": {},
   "source": [
    "重回帰"
   ]
  },
  {
   "cell_type": "code",
   "execution_count": 17,
   "id": "6fd48ebe",
   "metadata": {},
   "outputs": [],
   "source": [
    "def plot_multiple(X, y, w):\n",
    "    \"\"\"\n",
    "    重回帰の結果をプロット\n",
    "    X: 入力データ (n_samples, n_features)\n",
    "    y: 出力データ (n_samples,)\n",
    "    w: 重み (n_features + 1,)\n",
    "    \"\"\"\n",
    "    scatter = go.Scatter3d(\n",
    "        x=X[:, 0],\n",
    "        y=X[:, 1],\n",
    "        z=y,\n",
    "        mode='markers',\n",
    "        marker=dict(size=5, color='blue'),\n",
    "        name='Data'\n",
    "    )\n",
    "    xx, yy = np.meshgrid(np.linspace(X[:, 0].min(), X[:, 0].max(), 10),\n",
    "                         np.linspace(X[:, 1].min(), X[:, 1].max(), 10))\n",
    "    zz = w[0] + w[1] * xx + w[2] * yy\n",
    "    surface = go.Surface(\n",
    "        x=xx,\n",
    "        y=yy,\n",
    "        z=zz,\n",
    "        opacity=0.5,\n",
    "        colorscale=[[0, 'blue'], [1, 'blue']],\n",
    "        name='Regression Plane',\n",
    "        showscale=False\n",
    "    )\n",
    "    layout = go.Layout(\n",
    "        scene=dict(\n",
    "            xaxis_title='X1',\n",
    "            yaxis_title='X2',\n",
    "            zaxis_title='y'\n",
    "        ),\n",
    "    )\n",
    "    fig = go.Figure(data=[scatter, surface], layout=layout)\n",
    "    fig.show()"
   ]
  },
  {
   "cell_type": "code",
   "execution_count": 18,
   "id": "d550e9a6",
   "metadata": {},
   "outputs": [
    {
     "data": {
      "application/vnd.plotly.v1+json": {
       "config": {
        "plotlyServerURL": "https://plot.ly"
       },
       "data": [
        {
         "marker": {
          "color": "blue",
          "size": 5
         },
         "mode": "markers",
         "name": "Data",
         "type": "scatter3d",
         "x": {
          "bdata": "AAAAAAAA8D8AAAAAAADwvwAAAAAAAAhAAAAAAAAAAMA=",
          "dtype": "f8"
         },
         "y": {
          "bdata": "AAAAAAAAAEAAAAAAAADwPwAAAAAAAAAAAAAAAAAAAMA=",
          "dtype": "f8"
         },
         "z": {
          "bdata": "AAAAAAAAEEAAAAAAAAAAQAAAAAAAAPA/AAAAAAAA8L8=",
          "dtype": "f8"
         }
        },
        {
         "colorscale": [
          [
           0,
           "blue"
          ],
          [
           1,
           "blue"
          ]
         ],
         "name": "Regression Plane",
         "opacity": 0.5,
         "showscale": false,
         "type": "surface",
         "x": {
          "bdata": "AAAAAAAAAMDHcRzHcRz3vxzHcRzHcey/VFVVVVVV1b8gx3Ecx3HMPziO4ziO4+g/VlVVVVVV9T+Q4ziO4zj+P+Q4juM4jgNAAAAAAAAACEAAAAAAAAAAwMdxHMdxHPe/HMdxHMdx7L9UVVVVVVXVvyDHcRzHccw/OI7jOI7j6D9WVVVVVVX1P5DjOI7jOP4/5DiO4ziOA0AAAAAAAAAIQAAAAAAAAADAx3Ecx3Ec978cx3Ecx3Hsv1RVVVVVVdW/IMdxHMdxzD84juM4juPoP1ZVVVVVVfU/kOM4juM4/j/kOI7jOI4DQAAAAAAAAAhAAAAAAAAAAMDHcRzHcRz3vxzHcRzHcey/VFVVVVVV1b8gx3Ecx3HMPziO4ziO4+g/VlVVVVVV9T+Q4ziO4zj+P+Q4juM4jgNAAAAAAAAACEAAAAAAAAAAwMdxHMdxHPe/HMdxHMdx7L9UVVVVVVXVvyDHcRzHccw/OI7jOI7j6D9WVVVVVVX1P5DjOI7jOP4/5DiO4ziOA0AAAAAAAAAIQAAAAAAAAADAx3Ecx3Ec978cx3Ecx3Hsv1RVVVVVVdW/IMdxHMdxzD84juM4juPoP1ZVVVVVVfU/kOM4juM4/j/kOI7jOI4DQAAAAAAAAAhAAAAAAAAAAMDHcRzHcRz3vxzHcRzHcey/VFVVVVVV1b8gx3Ecx3HMPziO4ziO4+g/VlVVVVVV9T+Q4ziO4zj+P+Q4juM4jgNAAAAAAAAACEAAAAAAAAAAwMdxHMdxHPe/HMdxHMdx7L9UVVVVVVXVvyDHcRzHccw/OI7jOI7j6D9WVVVVVVX1P5DjOI7jOP4/5DiO4ziOA0AAAAAAAAAIQAAAAAAAAADAx3Ecx3Ec978cx3Ecx3Hsv1RVVVVVVdW/IMdxHMdxzD84juM4juPoP1ZVVVVVVfU/kOM4juM4/j/kOI7jOI4DQAAAAAAAAAhAAAAAAAAAAMDHcRzHcRz3vxzHcRzHcey/VFVVVVVV1b8gx3Ecx3HMPziO4ziO4+g/VlVVVVVV9T+Q4ziO4zj+P+Q4juM4jgNAAAAAAAAACEA=",
          "dtype": "f8",
          "shape": "10, 10"
         },
         "y": {
          "bdata": "AAAAAAAAAMAAAAAAAAAAwAAAAAAAAADAAAAAAAAAAMAAAAAAAAAAwAAAAAAAAADAAAAAAAAAAMAAAAAAAAAAwAAAAAAAAADAAAAAAAAAAMA5juM4juP4vzmO4ziO4/i/OY7jOI7j+L85juM4juP4vzmO4ziO4/i/OY7jOI7j+L85juM4juP4vzmO4ziO4/i/OY7jOI7j+L85juM4juP4v3Icx3Ecx/G/chzHcRzH8b9yHMdxHMfxv3Icx3Ecx/G/chzHcRzH8b9yHMdxHMfxv3Icx3Ecx/G/chzHcRzH8b9yHMdxHMfxv3Icx3Ecx/G/VlVVVVVV5b9WVVVVVVXlv1ZVVVVVVeW/VlVVVVVV5b9WVVVVVVXlv1ZVVVVVVeW/VlVVVVVV5b9WVVVVVVXlv1ZVVVVVVeW/VlVVVVVV5b8gx3Ecx3HMvyDHcRzHccy/IMdxHMdxzL8gx3Ecx3HMvyDHcRzHccy/IMdxHMdxzL8gx3Ecx3HMvyDHcRzHccy/IMdxHMdxzL8gx3Ecx3HMvyDHcRzHccw/IMdxHMdxzD8gx3Ecx3HMPyDHcRzHccw/IMdxHMdxzD8gx3Ecx3HMPyDHcRzHccw/IMdxHMdxzD8gx3Ecx3HMPyDHcRzHccw/VFVVVVVV5T9UVVVVVVXlP1RVVVVVVeU/VFVVVVVV5T9UVVVVVVXlP1RVVVVVVeU/VFVVVVVV5T9UVVVVVVXlP1RVVVVVVeU/VFVVVVVV5T9wHMdxHMfxP3Acx3Ecx/E/cBzHcRzH8T9wHMdxHMfxP3Acx3Ecx/E/cBzHcRzH8T9wHMdxHMfxP3Acx3Ecx/E/cBzHcRzH8T9wHMdxHMfxPziO4ziO4/g/OI7jOI7j+D84juM4juP4PziO4ziO4/g/OI7jOI7j+D84juM4juP4PziO4ziO4/g/OI7jOI7j+D84juM4juP4PziO4ziO4/g/AAAAAAAAAEAAAAAAAAAAQAAAAAAAAABAAAAAAAAAAEAAAAAAAAAAQAAAAAAAAABAAAAAAAAAAEAAAAAAAAAAQAAAAAAAAABAAAAAAAAAAEA=",
          "dtype": "f8",
          "shape": "10, 10"
         },
         "z": {
          "bdata": "wV3qyfjt8r8FMyoUXRPzv0oIal7BOPO/jt2pqCVe87/SsunyiYPzvxaIKT3uqPO/W11ph1LO87+fMqnRtvPzv+MH6RsbGfS/KN0oZn8+9L8i9AxLZqrkv6qejN8u9eS/NEkMdPc/5b+884sIwIrlv0SeC52I1eW/zEiLMVEg5r9W8wrGGWvmv96dilritea/ZkgK76oA57/w8omDc0vnvwBmKRLYxru/QLomthwdvr9IBxKtsDnAv2ixEP/SZMG/iFsPUfWPwr+oBQ6jF7vDv9CvDPU55sS/8FkLR1wRxr8QBAqZfjzHvziuCOugZ8i/QDUFjWBx2z8w4AVkz9vaPxyLBjs+Rto/DDYHEq2w2T/84AfpGxvZP+yLCMCKhdg/2DYJl/nv1z/I4QluaFrXP7iMCkXXxNY/pDcLHEYv1j8AYkqPO+ruP3i3yvpyn+4/7gxLZqpU7j9mYsvR4QnuP963Sz0Zv+0/Vg3MqFB07T/MYkwUiCntP0S4zH+/3uw/vA1N6/aT7D8yY81WLknsP7IUCWzjDfg/bj/JIX/o9z8paonXGsP3P+WUSY22nfc/ob8JQ1J49z9d6sn47VL3PxgViq6JLfc/1D9KZCUI9z+QagoaweL2P0uVys9cvfY/MHw2iFRTAECOkRZjokAAQOym9j3wLQBASrzWGD4bAECo0bbziwgAQAzOLZ2z6/8/x/jtUk/G/z+DI64I66D/Pz9Obr6Ge/8/+ngudCJW/z8Ibmhat58EQGaDSDUFjQRAxJgoEFN6BEAirgjroGcEQIDD6MXuVARA3tjIoDxCBEA77qh7ii8EQJkDiVbYHARA9xhpMSYKBEBULkkMdPcDQOBfmiwa7AhAPnV6B2jZCECcilritcYIQPqfOr0DtAhAWLUamFGhCEC2yvpyn44IQBTg2k3tewhAcvW6KDtpCEDQCpsDiVYIQC0ge97WQwhAulHM/nw4DUAYZ6zZyiUNQHV8jLQYEw1A05Fsj2YADUAxp0xqtO0MQI+8LEUC2wxA7NEMIFDIDEBK5+z6nbUMQKj8zNXrogxABhKtsDmQDEA=",
          "dtype": "f8",
          "shape": "10, 10"
         }
        }
       ],
       "layout": {
        "scene": {
         "xaxis": {
          "title": {
           "text": "X1"
          }
         },
         "yaxis": {
          "title": {
           "text": "X2"
          }
         },
         "zaxis": {
          "title": {
           "text": "y"
          }
         }
        },
        "template": {
         "data": {
          "bar": [
           {
            "error_x": {
             "color": "#2a3f5f"
            },
            "error_y": {
             "color": "#2a3f5f"
            },
            "marker": {
             "line": {
              "color": "#E5ECF6",
              "width": 0.5
             },
             "pattern": {
              "fillmode": "overlay",
              "size": 10,
              "solidity": 0.2
             }
            },
            "type": "bar"
           }
          ],
          "barpolar": [
           {
            "marker": {
             "line": {
              "color": "#E5ECF6",
              "width": 0.5
             },
             "pattern": {
              "fillmode": "overlay",
              "size": 10,
              "solidity": 0.2
             }
            },
            "type": "barpolar"
           }
          ],
          "carpet": [
           {
            "aaxis": {
             "endlinecolor": "#2a3f5f",
             "gridcolor": "white",
             "linecolor": "white",
             "minorgridcolor": "white",
             "startlinecolor": "#2a3f5f"
            },
            "baxis": {
             "endlinecolor": "#2a3f5f",
             "gridcolor": "white",
             "linecolor": "white",
             "minorgridcolor": "white",
             "startlinecolor": "#2a3f5f"
            },
            "type": "carpet"
           }
          ],
          "choropleth": [
           {
            "colorbar": {
             "outlinewidth": 0,
             "ticks": ""
            },
            "type": "choropleth"
           }
          ],
          "contour": [
           {
            "colorbar": {
             "outlinewidth": 0,
             "ticks": ""
            },
            "colorscale": [
             [
              0,
              "#0d0887"
             ],
             [
              0.1111111111111111,
              "#46039f"
             ],
             [
              0.2222222222222222,
              "#7201a8"
             ],
             [
              0.3333333333333333,
              "#9c179e"
             ],
             [
              0.4444444444444444,
              "#bd3786"
             ],
             [
              0.5555555555555556,
              "#d8576b"
             ],
             [
              0.6666666666666666,
              "#ed7953"
             ],
             [
              0.7777777777777778,
              "#fb9f3a"
             ],
             [
              0.8888888888888888,
              "#fdca26"
             ],
             [
              1,
              "#f0f921"
             ]
            ],
            "type": "contour"
           }
          ],
          "contourcarpet": [
           {
            "colorbar": {
             "outlinewidth": 0,
             "ticks": ""
            },
            "type": "contourcarpet"
           }
          ],
          "heatmap": [
           {
            "colorbar": {
             "outlinewidth": 0,
             "ticks": ""
            },
            "colorscale": [
             [
              0,
              "#0d0887"
             ],
             [
              0.1111111111111111,
              "#46039f"
             ],
             [
              0.2222222222222222,
              "#7201a8"
             ],
             [
              0.3333333333333333,
              "#9c179e"
             ],
             [
              0.4444444444444444,
              "#bd3786"
             ],
             [
              0.5555555555555556,
              "#d8576b"
             ],
             [
              0.6666666666666666,
              "#ed7953"
             ],
             [
              0.7777777777777778,
              "#fb9f3a"
             ],
             [
              0.8888888888888888,
              "#fdca26"
             ],
             [
              1,
              "#f0f921"
             ]
            ],
            "type": "heatmap"
           }
          ],
          "histogram": [
           {
            "marker": {
             "pattern": {
              "fillmode": "overlay",
              "size": 10,
              "solidity": 0.2
             }
            },
            "type": "histogram"
           }
          ],
          "histogram2d": [
           {
            "colorbar": {
             "outlinewidth": 0,
             "ticks": ""
            },
            "colorscale": [
             [
              0,
              "#0d0887"
             ],
             [
              0.1111111111111111,
              "#46039f"
             ],
             [
              0.2222222222222222,
              "#7201a8"
             ],
             [
              0.3333333333333333,
              "#9c179e"
             ],
             [
              0.4444444444444444,
              "#bd3786"
             ],
             [
              0.5555555555555556,
              "#d8576b"
             ],
             [
              0.6666666666666666,
              "#ed7953"
             ],
             [
              0.7777777777777778,
              "#fb9f3a"
             ],
             [
              0.8888888888888888,
              "#fdca26"
             ],
             [
              1,
              "#f0f921"
             ]
            ],
            "type": "histogram2d"
           }
          ],
          "histogram2dcontour": [
           {
            "colorbar": {
             "outlinewidth": 0,
             "ticks": ""
            },
            "colorscale": [
             [
              0,
              "#0d0887"
             ],
             [
              0.1111111111111111,
              "#46039f"
             ],
             [
              0.2222222222222222,
              "#7201a8"
             ],
             [
              0.3333333333333333,
              "#9c179e"
             ],
             [
              0.4444444444444444,
              "#bd3786"
             ],
             [
              0.5555555555555556,
              "#d8576b"
             ],
             [
              0.6666666666666666,
              "#ed7953"
             ],
             [
              0.7777777777777778,
              "#fb9f3a"
             ],
             [
              0.8888888888888888,
              "#fdca26"
             ],
             [
              1,
              "#f0f921"
             ]
            ],
            "type": "histogram2dcontour"
           }
          ],
          "mesh3d": [
           {
            "colorbar": {
             "outlinewidth": 0,
             "ticks": ""
            },
            "type": "mesh3d"
           }
          ],
          "parcoords": [
           {
            "line": {
             "colorbar": {
              "outlinewidth": 0,
              "ticks": ""
             }
            },
            "type": "parcoords"
           }
          ],
          "pie": [
           {
            "automargin": true,
            "type": "pie"
           }
          ],
          "scatter": [
           {
            "fillpattern": {
             "fillmode": "overlay",
             "size": 10,
             "solidity": 0.2
            },
            "type": "scatter"
           }
          ],
          "scatter3d": [
           {
            "line": {
             "colorbar": {
              "outlinewidth": 0,
              "ticks": ""
             }
            },
            "marker": {
             "colorbar": {
              "outlinewidth": 0,
              "ticks": ""
             }
            },
            "type": "scatter3d"
           }
          ],
          "scattercarpet": [
           {
            "marker": {
             "colorbar": {
              "outlinewidth": 0,
              "ticks": ""
             }
            },
            "type": "scattercarpet"
           }
          ],
          "scattergeo": [
           {
            "marker": {
             "colorbar": {
              "outlinewidth": 0,
              "ticks": ""
             }
            },
            "type": "scattergeo"
           }
          ],
          "scattergl": [
           {
            "marker": {
             "colorbar": {
              "outlinewidth": 0,
              "ticks": ""
             }
            },
            "type": "scattergl"
           }
          ],
          "scattermap": [
           {
            "marker": {
             "colorbar": {
              "outlinewidth": 0,
              "ticks": ""
             }
            },
            "type": "scattermap"
           }
          ],
          "scattermapbox": [
           {
            "marker": {
             "colorbar": {
              "outlinewidth": 0,
              "ticks": ""
             }
            },
            "type": "scattermapbox"
           }
          ],
          "scatterpolar": [
           {
            "marker": {
             "colorbar": {
              "outlinewidth": 0,
              "ticks": ""
             }
            },
            "type": "scatterpolar"
           }
          ],
          "scatterpolargl": [
           {
            "marker": {
             "colorbar": {
              "outlinewidth": 0,
              "ticks": ""
             }
            },
            "type": "scatterpolargl"
           }
          ],
          "scatterternary": [
           {
            "marker": {
             "colorbar": {
              "outlinewidth": 0,
              "ticks": ""
             }
            },
            "type": "scatterternary"
           }
          ],
          "surface": [
           {
            "colorbar": {
             "outlinewidth": 0,
             "ticks": ""
            },
            "colorscale": [
             [
              0,
              "#0d0887"
             ],
             [
              0.1111111111111111,
              "#46039f"
             ],
             [
              0.2222222222222222,
              "#7201a8"
             ],
             [
              0.3333333333333333,
              "#9c179e"
             ],
             [
              0.4444444444444444,
              "#bd3786"
             ],
             [
              0.5555555555555556,
              "#d8576b"
             ],
             [
              0.6666666666666666,
              "#ed7953"
             ],
             [
              0.7777777777777778,
              "#fb9f3a"
             ],
             [
              0.8888888888888888,
              "#fdca26"
             ],
             [
              1,
              "#f0f921"
             ]
            ],
            "type": "surface"
           }
          ],
          "table": [
           {
            "cells": {
             "fill": {
              "color": "#EBF0F8"
             },
             "line": {
              "color": "white"
             }
            },
            "header": {
             "fill": {
              "color": "#C8D4E3"
             },
             "line": {
              "color": "white"
             }
            },
            "type": "table"
           }
          ]
         },
         "layout": {
          "annotationdefaults": {
           "arrowcolor": "#2a3f5f",
           "arrowhead": 0,
           "arrowwidth": 1
          },
          "autotypenumbers": "strict",
          "coloraxis": {
           "colorbar": {
            "outlinewidth": 0,
            "ticks": ""
           }
          },
          "colorscale": {
           "diverging": [
            [
             0,
             "#8e0152"
            ],
            [
             0.1,
             "#c51b7d"
            ],
            [
             0.2,
             "#de77ae"
            ],
            [
             0.3,
             "#f1b6da"
            ],
            [
             0.4,
             "#fde0ef"
            ],
            [
             0.5,
             "#f7f7f7"
            ],
            [
             0.6,
             "#e6f5d0"
            ],
            [
             0.7,
             "#b8e186"
            ],
            [
             0.8,
             "#7fbc41"
            ],
            [
             0.9,
             "#4d9221"
            ],
            [
             1,
             "#276419"
            ]
           ],
           "sequential": [
            [
             0,
             "#0d0887"
            ],
            [
             0.1111111111111111,
             "#46039f"
            ],
            [
             0.2222222222222222,
             "#7201a8"
            ],
            [
             0.3333333333333333,
             "#9c179e"
            ],
            [
             0.4444444444444444,
             "#bd3786"
            ],
            [
             0.5555555555555556,
             "#d8576b"
            ],
            [
             0.6666666666666666,
             "#ed7953"
            ],
            [
             0.7777777777777778,
             "#fb9f3a"
            ],
            [
             0.8888888888888888,
             "#fdca26"
            ],
            [
             1,
             "#f0f921"
            ]
           ],
           "sequentialminus": [
            [
             0,
             "#0d0887"
            ],
            [
             0.1111111111111111,
             "#46039f"
            ],
            [
             0.2222222222222222,
             "#7201a8"
            ],
            [
             0.3333333333333333,
             "#9c179e"
            ],
            [
             0.4444444444444444,
             "#bd3786"
            ],
            [
             0.5555555555555556,
             "#d8576b"
            ],
            [
             0.6666666666666666,
             "#ed7953"
            ],
            [
             0.7777777777777778,
             "#fb9f3a"
            ],
            [
             0.8888888888888888,
             "#fdca26"
            ],
            [
             1,
             "#f0f921"
            ]
           ]
          },
          "colorway": [
           "#636efa",
           "#EF553B",
           "#00cc96",
           "#ab63fa",
           "#FFA15A",
           "#19d3f3",
           "#FF6692",
           "#B6E880",
           "#FF97FF",
           "#FECB52"
          ],
          "font": {
           "color": "#2a3f5f"
          },
          "geo": {
           "bgcolor": "white",
           "lakecolor": "white",
           "landcolor": "#E5ECF6",
           "showlakes": true,
           "showland": true,
           "subunitcolor": "white"
          },
          "hoverlabel": {
           "align": "left"
          },
          "hovermode": "closest",
          "mapbox": {
           "style": "light"
          },
          "paper_bgcolor": "white",
          "plot_bgcolor": "#E5ECF6",
          "polar": {
           "angularaxis": {
            "gridcolor": "white",
            "linecolor": "white",
            "ticks": ""
           },
           "bgcolor": "#E5ECF6",
           "radialaxis": {
            "gridcolor": "white",
            "linecolor": "white",
            "ticks": ""
           }
          },
          "scene": {
           "xaxis": {
            "backgroundcolor": "#E5ECF6",
            "gridcolor": "white",
            "gridwidth": 2,
            "linecolor": "white",
            "showbackground": true,
            "ticks": "",
            "zerolinecolor": "white"
           },
           "yaxis": {
            "backgroundcolor": "#E5ECF6",
            "gridcolor": "white",
            "gridwidth": 2,
            "linecolor": "white",
            "showbackground": true,
            "ticks": "",
            "zerolinecolor": "white"
           },
           "zaxis": {
            "backgroundcolor": "#E5ECF6",
            "gridcolor": "white",
            "gridwidth": 2,
            "linecolor": "white",
            "showbackground": true,
            "ticks": "",
            "zerolinecolor": "white"
           }
          },
          "shapedefaults": {
           "line": {
            "color": "#2a3f5f"
           }
          },
          "ternary": {
           "aaxis": {
            "gridcolor": "white",
            "linecolor": "white",
            "ticks": ""
           },
           "baxis": {
            "gridcolor": "white",
            "linecolor": "white",
            "ticks": ""
           },
           "bgcolor": "#E5ECF6",
           "caxis": {
            "gridcolor": "white",
            "linecolor": "white",
            "ticks": ""
           }
          },
          "title": {
           "x": 0.05
          },
          "xaxis": {
           "automargin": true,
           "gridcolor": "white",
           "linecolor": "white",
           "ticks": "",
           "title": {
            "standoff": 15
           },
           "zerolinecolor": "white",
           "zerolinewidth": 2
          },
          "yaxis": {
           "automargin": true,
           "gridcolor": "white",
           "linecolor": "white",
           "ticks": "",
           "title": {
            "standoff": 15
           },
           "zerolinecolor": "white",
           "zerolinewidth": 2
          }
         }
        }
       }
      }
     },
     "metadata": {},
     "output_type": "display_data"
    }
   ],
   "source": [
    "# データの読み込み\n",
    "data = np.loadtxt(\"./../data/chap1/multiple.dat\")\n",
    "X2 = data[:, 0:2]\n",
    "y2 = data[:, 2]\n",
    "\n",
    "# 重回帰の実行\n",
    "w2 = linear_regression(X2, y2)\n",
    "\n",
    "# 結果のプロット\n",
    "plot_multiple(X2, y2, w2)"
   ]
  },
  {
   "cell_type": "code",
   "execution_count": null,
   "id": "3319faeb",
   "metadata": {},
   "outputs": [],
   "source": []
  },
  {
   "cell_type": "code",
   "execution_count": null,
   "id": "80cd1b99",
   "metadata": {},
   "outputs": [],
   "source": []
  }
 ],
 "metadata": {
  "kernelspec": {
   "display_name": "3.12.2",
   "language": "python",
   "name": "python3"
  },
  "language_info": {
   "codemirror_mode": {
    "name": "ipython",
    "version": 3
   },
   "file_extension": ".py",
   "mimetype": "text/x-python",
   "name": "python",
   "nbconvert_exporter": "python",
   "pygments_lexer": "ipython3",
   "version": "3.12.2"
  }
 },
 "nbformat": 4,
 "nbformat_minor": 5
}
