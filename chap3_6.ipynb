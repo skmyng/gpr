{
 "cells": [
  {
   "cell_type": "markdown",
   "id": "4cc345a5",
   "metadata": {},
   "source": [
    "## ガウス過程回帰の一般化"
   ]
  },
  {
   "cell_type": "markdown",
   "id": "5a44bce4",
   "metadata": {},
   "source": [
    "### ロバストなガウス過程回帰"
   ]
  },
  {
   "cell_type": "code",
   "execution_count": null,
   "id": "f6287537",
   "metadata": {},
   "outputs": [],
   "source": []
  }
 ],
 "metadata": {
  "language_info": {
   "name": "python"
  }
 },
 "nbformat": 4,
 "nbformat_minor": 5
}
